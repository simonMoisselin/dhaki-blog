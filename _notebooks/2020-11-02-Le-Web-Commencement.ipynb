{
 "cells": [
  {
   "cell_type": "markdown",
   "metadata": {},
   "source": [
    "# Le Web : Le commencement"
   ]
  },
  {
   "cell_type": "markdown",
   "metadata": {},
   "source": [
    "De multiples raisons vous poussent ou vont vous pousser à être développeur Web. Tu veux tout savoir sur le Web? \n",
    "Accorde moi quelques minutes.\n"
   ]
  },
  {
   "cell_type": "markdown",
   "metadata": {},
   "source": [
    "## Qu’est ce que le web ? \n"
   ]
  },
  {
   "cell_type": "markdown",
   "metadata": {},
   "source": [
    "Tout remontes il y a 450 000 ans. L’homme invente le feu..\n",
    "Mhhh bien reflechis on peu avance un peu..\n",
    "Il y a 3300 ans les sumerien se servent de roseaux taille pour inscrire des symbole sur des tablettes en argile  ! C’est l’Invention de l'écriture !\n",
    "Bon d’accord avançons encore un peu…"
   ]
  },
  {
   "cell_type": "markdown",
   "metadata": {},
   "source": [
    "Le 21 novembre 1969 un lien est creer  entre l'université de Californie à Los Angeles et le Stanford Research Institute. \n",
    "Dès le 5 décembre 1969 , en y ajoutant l'université d'Utah et l'université de Californie à Santa Barbara, un réseau à 4 nœuds voyait le jour.\n",
    "C’est l’ARPANET, l'ancêtre d’internet. A la base c’est un réseau militaire décentralisé. "
   ]
  },
  {
   "cell_type": "markdown",
   "metadata": {},
   "source": [
    "Par la suite on va étendre ce service. \n",
    "En 1972 on y ajoute une nouvelle application. Le service mail pour s’envoyer des messages.\n",
    "Et c’est en 1991 que une nouvelle application arrive sur Internet, le Web. Elle permet grâce a des lien, a naviguer entre plusieurs pages.\n",
    "Elle est inventée par Tim Berners Lee entre son lieu de travail a Geneve en suisse et son domicile en France.\n",
    "L'idée au départ est de permettre au Chercheurs et Scientifiques de s'échanger des données. Il creer le HTML. Et le World Wide Web qui veut dire une toile géante. \n",
    "Actuellement il gère la W3C. L’organisation qui s'occupe des réglementation du Web et du future de celui ci.\n"
   ]
  },
  {
   "cell_type": "markdown",
   "metadata": {},
   "source": [
    "## Web vs Internet"
   ]
  },
  {
   "cell_type": "markdown",
   "metadata": {},
   "source": [
    "Quoi ?? Mais alors le Web et Internet ce n’est pas la même chose ? \n"
   ]
  },
  {
   "cell_type": "markdown",
   "metadata": {},
   "source": [
    "Eh bien non ! Internet n’est pas égal a Web. En fait Internet c’est un réseau permettant de connecter des ordinateurs entre eux. \n",
    "Il possède plusieurs applications comme :  \n",
    "Le service de mail, \n",
    "Le service d'échange de fichier PeerToPeer ou FTP. \n",
    "Mais aussi le service de Web\n"
   ]
  },
  {
   "cell_type": "markdown",
   "metadata": {},
   "source": [
    "Je suppose que toi aussi tu te demandé pourquoi tout le monde confond Web et Internet ? \n",
    "J’ai surement une explication. \n",
    "Il faut savoir qu'Internet comme il est à l'origine n’est pas utilisable par tout le monde. \n",
    "C’est de la communication avec des serveurs et je t’assure qund tu n’y connais rien, ce n’est pas très joli. \n",
    "D’ailleurs même le premier navigateur internet, permettant de naviguer dans le Web n'était pas jolie. C'était des lignes de commandes et ca ressemblait a ca.\n",
    "Dans les années 1990 les navigateurs web ont commencé à être graphique et donc un peu plus agréable à utiliser. \n",
    "A l’epoque trouver des donnes dans le web relevait de l’impossible. On ne pouvait pas chercher.\n"
   ]
  },
  {
   "cell_type": "markdown",
   "metadata": {},
   "source": [
    "1990 sort Archiqui Query, l'ancêtre des moteurs de recherches. C’est une révolution. ! \n",
    "\n",
    "En 1993 sort Wanderer , le premier moteur de recherche avec un Robot d’indexation. La même année sort le navigateur web Mosaic. Un navigateur agréable à regarder qui supporte même les image. \n",
    "\n",
    "\n",
    "Le web commence son ascension.\n",
    "\n",
    "\n",
    "1995 Le navigateur Internet Explorer prend son envol avec l'arrivée de Windows. \n",
    "\n",
    "Dans les années 2005 Mozilla prendra sa place. En 2008 Google chrome devient le navigateur le plus utilisé.\n",
    "\n",
    "Depuis Internet a la réputation d'être lent… lent… très lent….\n",
    "Les rumeurs racontent même que si vous aviez ouvert cette vidéo sur Internet explorer nous serions encore en 3300 !\n",
    "\n",
    "Yahoo devient le moteur de recherche le plus utilisé. Il commence a se faire voler la vedette par Altavista un moteur de recherche français. Les deux se feront très largement détrôné par google dans les années 2000.\n",
    "\n",
    "Il est inventé par Larry Page et Sergei Brin sous le nom au départ de Backrub.\n",
    "Il prendra le nom de google par la suite après une erreur. Google vient de googol qui est un nombre en mathématique représentant  10 puissance 100. C’est une erreur de frappe lors de l'entrée du nom qui amènera  à l’actuel Google.\n",
    "\n",
    "Il représente aujourd’hui 90% des recherches et plus de 30 milliards de site indexé.\n",
    "\n",
    "Revenant en a notre question de départ. Pourquoi confond on Web et internet. "
   ]
  },
  {
   "cell_type": "markdown",
   "metadata": {},
   "source": [
    "\n",
    "Les navigateur Web ont progressé au fur à mesure des année. Ils ont offert des interface Web agreable a regarder et pratique a utiliser. \n",
    "Les moteurs de recherche qui font partie du web sont aussi désormais puissant et agréable à utiliser. \n",
    "Si bien que désormais des services d’internet qui ne sont pas des applications web sont désormais utilisé à travers le Web. \n",
    "\n",
    "Prenons Gmail par exemple. C’est un service de messagerie dans Internet. Ce n’est pas une application Web. \n",
    "Seulement pour des raisons d'esthétique et de pratique Gmail fait utiliser son service de messagerie à travers une interface Web. Qui est le site web Gmail. \n"
   ]
  },
  {
   "cell_type": "markdown",
   "metadata": {},
   "source": [
    "De nombreux autres services internet comme les echange de fichiers ou des services de messageries sont maintenant utilisé à l’aide d’une interface Web pour simplifier la vie des utilisateur. \n",
    "Les utilisateurs en utilisant ces services depuis des service Web sont souvent a confondre le Web et Internet. \n",
    "\n",
    "Donc pour résumer Internet est un réseau de partage entre les oridnateur . \n",
    "Il est composé de plusieurs application dont le Web.\n",
    "\n",
    "Mabuel Castells disait ceci:\n",
    "“Internet est le produit d'une combinaison unique de stratégie militaire, de coopération scientifique et d'innovation contestataire.”\n"
   ]
  },
  {
   "cell_type": "markdown",
   "metadata": {},
   "source": [
    "Je ne sais pas si cela vous aide a mieux comprendre le Web mais moi ca me donne l’air plus intelligent ! \n",
    "\n",
    "Voilà vous savez tout maintenant.. fin... en terme de culture générale. \n",
    "Em fit non on commence a peine !\n",
    "Donc je vous donne rendez vous à la vidéo prochaine pour approfondir un peu plus vos connaissance du Web.\n",
    "\n",
    "\n"
   ]
  },
  {
   "cell_type": "markdown",
   "metadata": {},
   "source": [
    "https://youtu.be/5x6z7EX3zPI"
   ]
  },
  {
   "cell_type": "code",
   "execution_count": null,
   "metadata": {},
   "outputs": [],
   "source": []
  }
 ],
 "metadata": {
  "kernelspec": {
   "display_name": "Python 3",
   "language": "python",
   "name": "python3"
  },
  "language_info": {
   "codemirror_mode": {
    "name": "ipython",
    "version": 3
   },
   "file_extension": ".py",
   "mimetype": "text/x-python",
   "name": "python",
   "nbconvert_exporter": "python",
   "pygments_lexer": "ipython3",
   "version": "3.8.5"
  }
 },
 "nbformat": 4,
 "nbformat_minor": 4
}
