{
 "cells": [
  {
   "cell_type": "markdown",
   "metadata": {},
   "source": [
    "# Les Métiers du Web\n",
    "\n",
    "Eh bien avec tout ce qu’on a vu avant vous devez vous dire : Woahhh mais comment je fais pour apprendre tout ca ? \n",
    "\n",
    "Et c’est la que je vous dis tout va bien ! Pas besoin de maitriser tout ces concepts.\n",
    "En effet le web est complexe et tout ce qu’on a vu avant se divise en realité en de nombreux métiers. Nous allons voir ca dans cet article.\n",
    "\n",
    "\n",
    "Vous pouvez trouver le contenu video correspondant a ce blog ici:\n",
    "> youtube: https://youtu.be/fFkclT6s1E4\n",
    "\n",
    "Et vous pouvez aussi vous entrainer sur [Dhaki](https://www.dhaki.fr) !\n"
   ]
  },
  {
   "cell_type": "markdown",
   "metadata": {},
   "source": [
    "## Spécialisations"
   ]
  },
  {
   "cell_type": "markdown",
   "metadata": {},
   "source": [
    "Généralement on se spécialise. \n",
    "\n",
    "Voici un résumé des corps de métiers dans le web. \n",
    "\n",
    "Tout d’abord il faut concevoir le design du site Web. A quoi il va ressembler visuellement.\n",
    "Ce sont des Designer UX/UI donc des designer d’interface qui vont s'occuper de cette partie la.  Il se servent d’outils de Design qui leur permettent de dessiner des maquettes comme Figma, Sketch ou Adobe xD pour les plus connus.\n",
    "Nous sommes ici dans la partie front-end. \n",
    "\n",
    "Ensuite il va falloir coder ces interface en HTML CSS et Javascript \n",
    "Ce sont les développeurs front end qui s'occupent de cette partie là du site. C’est aussi une partie du développement Front End. \n",
    "\n",
    "Ensuite les développeurs Backend vont structurer le site et le connecte a une base de données. C’est le développement Backend. Ce sont de développeur Python Ruby Php, Java C# etc...\n",
    "\n",
    "Parfois le développeur Backend et Front End est une même personne et sait faire les deux. On appelle ça un développeur FullStack.\n",
    "\n",
    "Ensuite certains développeurs sont spécialisé dans le fait de tester une application web ou mobile.\n",
    "On appelle ca des QA Manager\n",
    "\n",
    "Ensuite il y a la personne qui s'occupe de la connexion entre les base de donnee machine et serveur. C’est le sys Admin. \n",
    "\n",
    "Pour finir le technicien informatique ou réseau et la personne qui s’occupe des machine de façon physique.\n",
    "\n",
    "\n"
   ]
  },
  {
   "cell_type": "markdown",
   "metadata": {},
   "source": [
    "## Un bon développeur Web\n",
    "\n",
    "Chez [Dhaki](https://www.dhaki.fr), nous apprenons surtout à être développeur. Donc developpeur Front-end et développeur Back-end.\n",
    "Maintenant si vous vous demandez est ce que je suis fait pour être développeur, la réponse est extrêmement simple. Si vous répondez à ce type de profil et caractère, vous êtes fait pour être développeur.\n",
    "\n",
    "Un développeur est autonome. Un développeur est souvent seul face à certains problèmes qu’il doit résoudre. De plus vous allez surement être amené à travailler en Télétravail. Il faut savoir se gérer et s’organiser.\n",
    "\n",
    "Il aime chercher et faire de l’investigation. En effet il est toujours confronté a des probleme et doit trouver des solutions pour les résoudre. Il faut être curieux et aimer l’investigation.\n",
    "\n",
    "Un minimum à l’aise avec l’anglais. En effet toute la documentation et toutes les ressources sont généralement en anglais.\n",
    "Sur Dhaki nous allons essayer de vous apporter les termes en anglais au fur à mesure. \n",
    "Bien sur pas besoin de faire de la littérature non plus. Maus un minimum est requis. \n",
    "Et puis sinon n'hésitez pas à vous installer des extension de traducteur sur votre navigateur.\n",
    "\n",
    "Si vous avez ces trois caractéristiques, alors vous êtes fait pour être développeur.\n",
    "\n",
    "\n",
    "Et pour accelerér votre apprentissage, vous pouvez vous entrainer sur [Dhaki](https://www.dhaki.fr) !"
   ]
  }
 ],
 "metadata": {
  "kernelspec": {
   "display_name": "Python 3",
   "language": "python",
   "name": "python3"
  },
  "language_info": {
   "codemirror_mode": {
    "name": "ipython",
    "version": 3
   },
   "file_extension": ".py",
   "mimetype": "text/x-python",
   "name": "python",
   "nbconvert_exporter": "python",
   "pygments_lexer": "ipython3",
   "version": "3.8.5"
  }
 },
 "nbformat": 4,
 "nbformat_minor": 4
}
