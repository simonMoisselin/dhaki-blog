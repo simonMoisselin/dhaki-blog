{
 "cells": [
  {
   "cell_type": "markdown",
   "metadata": {},
   "source": [
    "# Web - Le Frontend"
   ]
  },
  {
   "cell_type": "markdown",
   "metadata": {},
   "source": [
    "Il est impossible de parler de frontend sans citer les langages qui le compose. Nous allons voir cela dans cet article. \n",
    "\n",
    "\n",
    "Vous pouvez trouver le contenu video correspondant a ce blog ici:\n",
    "> youtube: https://youtu.be/fFkclT6s1E4\n",
    "\n",
    "Et vous pouvez aussi vous entrainer sur [Dhaki](https://www.dhaki.fr) !\n"
   ]
  },
  {
   "cell_type": "markdown",
   "metadata": {},
   "source": [
    "## Les Langages"
   ]
  },
  {
   "cell_type": "markdown",
   "metadata": {},
   "source": [
    "Donc  comme nous avons vu juste avant. Après une requête, le serveur envois des information au client. \n",
    "Le client les interprète et les affiche ensuite sous forme de page Web.\n",
    "Pour les interpréter le clients utilisent des langages informatiques.\n",
    "\n",
    "Ce sont les langages front end. Il y en a 3. \n",
    "1. HTML\n",
    "2. CSS\n",
    "3. Javascripts\n",
    "\n",
    "Le navigateur Web lit ces langages pour les afficher de façon à ce que les humains le lise. C’est le site Web comme vous le voyez a la fin. \n",
    "\n",
    "Voici quelques exemple de code écrit en HTML CSS Javascript.\n",
    "Et ce qu’ils rendent au final.\n",
    "\n",
    "Eh bien sur cela vaut aussi pour Dhaki. Il est bien évidemment écrit en HTML CSS Javascript.\n",
    "\n",
    "- Le HTML est la pour écrire le contenu pure. Les image le texte, les titres ,les liens. Mais simplement ce qui est question de contenu non d'esthétique. \n",
    "Un peu comme le squelette d’un corp humain. C’est vraiment la structure de base.\n",
    "\n",
    "- Le CSS lui est la pour mettre des couleur faire la mise en page. Rendre le site agréable à lire. Pour continuer la métaphore ce serait la peau d’une personne, ses cheveux , sa coiffure, ses habits, la couleur de ses yeux etc…\n",
    "\n",
    "- Pour finir le Javascript s'occupe des actions un peu plus complexe comme les animations, transitions, ouverture de menu depuis des boutons etc…\n",
    "Ce serait dans cette métaphore les muscles du corp humain.\n",
    "\n",
    "\n",
    "Ces trois langages sont donc les langages clients.\n",
    "Cela fait partie du développement Front end. \n",
    "\n",
    "Je vous retrouve dans le prochain article pour parler du WEB Back-end. \n",
    "\n",
    "Et en attendant, vous pouvez vous entrainer sur [Dhaki](https://www.dhaki.fr) !\n"
   ]
  }
 ],
 "metadata": {
  "kernelspec": {
   "display_name": "Python 3",
   "language": "python",
   "name": "python3"
  },
  "language_info": {
   "codemirror_mode": {
    "name": "ipython",
    "version": 3
   },
   "file_extension": ".py",
   "mimetype": "text/x-python",
   "name": "python",
   "nbconvert_exporter": "python",
   "pygments_lexer": "ipython3",
   "version": "3.8.5"
  }
 },
 "nbformat": 4,
 "nbformat_minor": 4
}
